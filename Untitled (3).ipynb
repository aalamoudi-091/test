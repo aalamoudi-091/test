{
 "cells": [
  {
   "cell_type": "code",
   "execution_count": 1,
   "metadata": {},
   "outputs": [],
   "source": [
    "import numpy as np\n",
    "import pandas as pd\n",
    "import matplotlib.pyplot as plt\n",
    "import seaborn as sb\n",
    "import math\n",
    "import time\n",
    "import datetime as dt\n",
    "import datetime\n",
    "%matplotlib inline"
   ]
  },
  {
   "cell_type": "code",
   "execution_count": 2,
   "metadata": {},
   "outputs": [],
   "source": [
    "df=pd.read_csv('1987.csv')"
   ]
  },
  {
   "cell_type": "code",
   "execution_count": 3,
   "metadata": {},
   "outputs": [
    {
     "data": {
      "text/html": [
       "<div>\n",
       "<style scoped>\n",
       "    .dataframe tbody tr th:only-of-type {\n",
       "        vertical-align: middle;\n",
       "    }\n",
       "\n",
       "    .dataframe tbody tr th {\n",
       "        vertical-align: top;\n",
       "    }\n",
       "\n",
       "    .dataframe thead th {\n",
       "        text-align: right;\n",
       "    }\n",
       "</style>\n",
       "<table border=\"1\" class=\"dataframe\">\n",
       "  <thead>\n",
       "    <tr style=\"text-align: right;\">\n",
       "      <th></th>\n",
       "      <th>Year</th>\n",
       "      <th>Month</th>\n",
       "      <th>DayofMonth</th>\n",
       "      <th>DayOfWeek</th>\n",
       "      <th>DepTime</th>\n",
       "      <th>CRSDepTime</th>\n",
       "      <th>ArrTime</th>\n",
       "      <th>CRSArrTime</th>\n",
       "      <th>UniqueCarrier</th>\n",
       "      <th>FlightNum</th>\n",
       "      <th>...</th>\n",
       "      <th>TaxiIn</th>\n",
       "      <th>TaxiOut</th>\n",
       "      <th>Cancelled</th>\n",
       "      <th>CancellationCode</th>\n",
       "      <th>Diverted</th>\n",
       "      <th>CarrierDelay</th>\n",
       "      <th>WeatherDelay</th>\n",
       "      <th>NASDelay</th>\n",
       "      <th>SecurityDelay</th>\n",
       "      <th>LateAircraftDelay</th>\n",
       "    </tr>\n",
       "  </thead>\n",
       "  <tbody>\n",
       "    <tr>\n",
       "      <th>0</th>\n",
       "      <td>1987</td>\n",
       "      <td>10</td>\n",
       "      <td>14</td>\n",
       "      <td>3</td>\n",
       "      <td>741.0</td>\n",
       "      <td>730</td>\n",
       "      <td>912.0</td>\n",
       "      <td>849</td>\n",
       "      <td>PS</td>\n",
       "      <td>1451</td>\n",
       "      <td>...</td>\n",
       "      <td>NaN</td>\n",
       "      <td>NaN</td>\n",
       "      <td>0</td>\n",
       "      <td>NaN</td>\n",
       "      <td>0</td>\n",
       "      <td>NaN</td>\n",
       "      <td>NaN</td>\n",
       "      <td>NaN</td>\n",
       "      <td>NaN</td>\n",
       "      <td>NaN</td>\n",
       "    </tr>\n",
       "    <tr>\n",
       "      <th>1</th>\n",
       "      <td>1987</td>\n",
       "      <td>10</td>\n",
       "      <td>15</td>\n",
       "      <td>4</td>\n",
       "      <td>729.0</td>\n",
       "      <td>730</td>\n",
       "      <td>903.0</td>\n",
       "      <td>849</td>\n",
       "      <td>PS</td>\n",
       "      <td>1451</td>\n",
       "      <td>...</td>\n",
       "      <td>NaN</td>\n",
       "      <td>NaN</td>\n",
       "      <td>0</td>\n",
       "      <td>NaN</td>\n",
       "      <td>0</td>\n",
       "      <td>NaN</td>\n",
       "      <td>NaN</td>\n",
       "      <td>NaN</td>\n",
       "      <td>NaN</td>\n",
       "      <td>NaN</td>\n",
       "    </tr>\n",
       "    <tr>\n",
       "      <th>2</th>\n",
       "      <td>1987</td>\n",
       "      <td>10</td>\n",
       "      <td>17</td>\n",
       "      <td>6</td>\n",
       "      <td>741.0</td>\n",
       "      <td>730</td>\n",
       "      <td>918.0</td>\n",
       "      <td>849</td>\n",
       "      <td>PS</td>\n",
       "      <td>1451</td>\n",
       "      <td>...</td>\n",
       "      <td>NaN</td>\n",
       "      <td>NaN</td>\n",
       "      <td>0</td>\n",
       "      <td>NaN</td>\n",
       "      <td>0</td>\n",
       "      <td>NaN</td>\n",
       "      <td>NaN</td>\n",
       "      <td>NaN</td>\n",
       "      <td>NaN</td>\n",
       "      <td>NaN</td>\n",
       "    </tr>\n",
       "    <tr>\n",
       "      <th>3</th>\n",
       "      <td>1987</td>\n",
       "      <td>10</td>\n",
       "      <td>18</td>\n",
       "      <td>7</td>\n",
       "      <td>729.0</td>\n",
       "      <td>730</td>\n",
       "      <td>847.0</td>\n",
       "      <td>849</td>\n",
       "      <td>PS</td>\n",
       "      <td>1451</td>\n",
       "      <td>...</td>\n",
       "      <td>NaN</td>\n",
       "      <td>NaN</td>\n",
       "      <td>0</td>\n",
       "      <td>NaN</td>\n",
       "      <td>0</td>\n",
       "      <td>NaN</td>\n",
       "      <td>NaN</td>\n",
       "      <td>NaN</td>\n",
       "      <td>NaN</td>\n",
       "      <td>NaN</td>\n",
       "    </tr>\n",
       "    <tr>\n",
       "      <th>4</th>\n",
       "      <td>1987</td>\n",
       "      <td>10</td>\n",
       "      <td>19</td>\n",
       "      <td>1</td>\n",
       "      <td>749.0</td>\n",
       "      <td>730</td>\n",
       "      <td>922.0</td>\n",
       "      <td>849</td>\n",
       "      <td>PS</td>\n",
       "      <td>1451</td>\n",
       "      <td>...</td>\n",
       "      <td>NaN</td>\n",
       "      <td>NaN</td>\n",
       "      <td>0</td>\n",
       "      <td>NaN</td>\n",
       "      <td>0</td>\n",
       "      <td>NaN</td>\n",
       "      <td>NaN</td>\n",
       "      <td>NaN</td>\n",
       "      <td>NaN</td>\n",
       "      <td>NaN</td>\n",
       "    </tr>\n",
       "  </tbody>\n",
       "</table>\n",
       "<p>5 rows × 29 columns</p>\n",
       "</div>"
      ],
      "text/plain": [
       "   Year  Month  DayofMonth  DayOfWeek  DepTime  CRSDepTime  ArrTime  \\\n",
       "0  1987     10          14          3    741.0         730    912.0   \n",
       "1  1987     10          15          4    729.0         730    903.0   \n",
       "2  1987     10          17          6    741.0         730    918.0   \n",
       "3  1987     10          18          7    729.0         730    847.0   \n",
       "4  1987     10          19          1    749.0         730    922.0   \n",
       "\n",
       "   CRSArrTime UniqueCarrier  FlightNum  ...  TaxiIn  TaxiOut  Cancelled  \\\n",
       "0         849            PS       1451  ...     NaN      NaN          0   \n",
       "1         849            PS       1451  ...     NaN      NaN          0   \n",
       "2         849            PS       1451  ...     NaN      NaN          0   \n",
       "3         849            PS       1451  ...     NaN      NaN          0   \n",
       "4         849            PS       1451  ...     NaN      NaN          0   \n",
       "\n",
       "   CancellationCode  Diverted  CarrierDelay WeatherDelay NASDelay  \\\n",
       "0               NaN         0           NaN          NaN      NaN   \n",
       "1               NaN         0           NaN          NaN      NaN   \n",
       "2               NaN         0           NaN          NaN      NaN   \n",
       "3               NaN         0           NaN          NaN      NaN   \n",
       "4               NaN         0           NaN          NaN      NaN   \n",
       "\n",
       "   SecurityDelay  LateAircraftDelay  \n",
       "0            NaN                NaN  \n",
       "1            NaN                NaN  \n",
       "2            NaN                NaN  \n",
       "3            NaN                NaN  \n",
       "4            NaN                NaN  \n",
       "\n",
       "[5 rows x 29 columns]"
      ]
     },
     "execution_count": 3,
     "metadata": {},
     "output_type": "execute_result"
    }
   ],
   "source": [
    "df.head()"
   ]
  },
  {
   "cell_type": "code",
   "execution_count": 4,
   "metadata": {},
   "outputs": [
    {
     "name": "stdout",
     "output_type": "stream",
     "text": [
      "<class 'pandas.core.frame.DataFrame'>\n",
      "RangeIndex: 1311826 entries, 0 to 1311825\n",
      "Data columns (total 29 columns):\n",
      " #   Column             Non-Null Count    Dtype  \n",
      "---  ------             --------------    -----  \n",
      " 0   Year               1311826 non-null  int64  \n",
      " 1   Month              1311826 non-null  int64  \n",
      " 2   DayofMonth         1311826 non-null  int64  \n",
      " 3   DayOfWeek          1311826 non-null  int64  \n",
      " 4   DepTime            1292141 non-null  float64\n",
      " 5   CRSDepTime         1311826 non-null  int64  \n",
      " 6   ArrTime            1288326 non-null  float64\n",
      " 7   CRSArrTime         1311826 non-null  int64  \n",
      " 8   UniqueCarrier      1311826 non-null  object \n",
      " 9   FlightNum          1311826 non-null  int64  \n",
      " 10  TailNum            0 non-null        float64\n",
      " 11  ActualElapsedTime  1288326 non-null  float64\n",
      " 12  CRSElapsedTime     1311826 non-null  int64  \n",
      " 13  AirTime            0 non-null        float64\n",
      " 14  ArrDelay           1288326 non-null  float64\n",
      " 15  DepDelay           1292141 non-null  float64\n",
      " 16  Origin             1311826 non-null  object \n",
      " 17  Dest               1311826 non-null  object \n",
      " 18  Distance           1310811 non-null  float64\n",
      " 19  TaxiIn             0 non-null        float64\n",
      " 20  TaxiOut            0 non-null        float64\n",
      " 21  Cancelled          1311826 non-null  int64  \n",
      " 22  CancellationCode   0 non-null        float64\n",
      " 23  Diverted           1311826 non-null  int64  \n",
      " 24  CarrierDelay       0 non-null        float64\n",
      " 25  WeatherDelay       0 non-null        float64\n",
      " 26  NASDelay           0 non-null        float64\n",
      " 27  SecurityDelay      0 non-null        float64\n",
      " 28  LateAircraftDelay  0 non-null        float64\n",
      "dtypes: float64(16), int64(10), object(3)\n",
      "memory usage: 290.2+ MB\n"
     ]
    }
   ],
   "source": [
    "df.info()\n"
   ]
  },
  {
   "cell_type": "markdown",
   "metadata": {},
   "source": [
    "####  we have some null value"
   ]
  },
  {
   "cell_type": "code",
   "execution_count": 5,
   "metadata": {},
   "outputs": [
    {
     "data": {
      "text/plain": [
       "72"
      ]
     },
     "execution_count": 5,
     "metadata": {},
     "output_type": "execute_result"
    }
   ],
   "source": [
    "df.duplicated().sum()\n"
   ]
  },
  {
   "cell_type": "markdown",
   "metadata": {},
   "source": [
    "#### we 72 have duplicat value\n"
   ]
  },
  {
   "cell_type": "code",
   "execution_count": 6,
   "metadata": {},
   "outputs": [],
   "source": [
    "df_copy =  df.copy()   \n"
   ]
  },
  {
   "cell_type": "markdown",
   "metadata": {},
   "source": [
    "we need take copy of dataset"
   ]
  },
  {
   "cell_type": "code",
   "execution_count": 7,
   "metadata": {},
   "outputs": [],
   "source": [
    "df_copy=df_copy.drop(columns =['LateAircraftDelay','CRSArrTime','CRSDepTime' , 'CRSElapsedTime','DayofMonth','UniqueCarrier', 'SecurityDelay','CarrierDelay','WeatherDelay','NASDelay','SecurityDelay','CancellationCode','TaxiOut','TaxiIn','AirTime','TailNum'])"
   ]
  },
  {
   "cell_type": "markdown",
   "metadata": {},
   "source": [
    "#### Delete columns that we do not need in our analysis"
   ]
  },
  {
   "cell_type": "code",
   "execution_count": 8,
   "metadata": {},
   "outputs": [
    {
     "name": "stdout",
     "output_type": "stream",
     "text": [
      "<class 'pandas.core.frame.DataFrame'>\n",
      "RangeIndex: 1311826 entries, 0 to 1311825\n",
      "Data columns (total 14 columns):\n",
      " #   Column             Non-Null Count    Dtype  \n",
      "---  ------             --------------    -----  \n",
      " 0   Year               1311826 non-null  int64  \n",
      " 1   Month              1311826 non-null  int64  \n",
      " 2   DayOfWeek          1311826 non-null  int64  \n",
      " 3   DepTime            1292141 non-null  float64\n",
      " 4   ArrTime            1288326 non-null  float64\n",
      " 5   FlightNum          1311826 non-null  int64  \n",
      " 6   ActualElapsedTime  1288326 non-null  float64\n",
      " 7   ArrDelay           1288326 non-null  float64\n",
      " 8   DepDelay           1292141 non-null  float64\n",
      " 9   Origin             1311826 non-null  object \n",
      " 10  Dest               1311826 non-null  object \n",
      " 11  Distance           1310811 non-null  float64\n",
      " 12  Cancelled          1311826 non-null  int64  \n",
      " 13  Diverted           1311826 non-null  int64  \n",
      "dtypes: float64(6), int64(6), object(2)\n",
      "memory usage: 140.1+ MB\n"
     ]
    }
   ],
   "source": [
    "df_copy.info()\n"
   ]
  },
  {
   "cell_type": "code",
   "execution_count": 9,
   "metadata": {},
   "outputs": [
    {
     "data": {
      "text/html": [
       "<div>\n",
       "<style scoped>\n",
       "    .dataframe tbody tr th:only-of-type {\n",
       "        vertical-align: middle;\n",
       "    }\n",
       "\n",
       "    .dataframe tbody tr th {\n",
       "        vertical-align: top;\n",
       "    }\n",
       "\n",
       "    .dataframe thead th {\n",
       "        text-align: right;\n",
       "    }\n",
       "</style>\n",
       "<table border=\"1\" class=\"dataframe\">\n",
       "  <thead>\n",
       "    <tr style=\"text-align: right;\">\n",
       "      <th></th>\n",
       "      <th>Year</th>\n",
       "      <th>Month</th>\n",
       "      <th>DayOfWeek</th>\n",
       "      <th>DepTime</th>\n",
       "      <th>ArrTime</th>\n",
       "      <th>FlightNum</th>\n",
       "      <th>ActualElapsedTime</th>\n",
       "      <th>ArrDelay</th>\n",
       "      <th>DepDelay</th>\n",
       "      <th>Origin</th>\n",
       "      <th>Dest</th>\n",
       "      <th>Distance</th>\n",
       "      <th>Cancelled</th>\n",
       "      <th>Diverted</th>\n",
       "    </tr>\n",
       "  </thead>\n",
       "  <tbody>\n",
       "    <tr>\n",
       "      <th>0</th>\n",
       "      <td>1987</td>\n",
       "      <td>10</td>\n",
       "      <td>3</td>\n",
       "      <td>741.0</td>\n",
       "      <td>912.0</td>\n",
       "      <td>1451</td>\n",
       "      <td>91.0</td>\n",
       "      <td>23.0</td>\n",
       "      <td>11.0</td>\n",
       "      <td>SAN</td>\n",
       "      <td>SFO</td>\n",
       "      <td>447.0</td>\n",
       "      <td>0</td>\n",
       "      <td>0</td>\n",
       "    </tr>\n",
       "    <tr>\n",
       "      <th>1</th>\n",
       "      <td>1987</td>\n",
       "      <td>10</td>\n",
       "      <td>4</td>\n",
       "      <td>729.0</td>\n",
       "      <td>903.0</td>\n",
       "      <td>1451</td>\n",
       "      <td>94.0</td>\n",
       "      <td>14.0</td>\n",
       "      <td>-1.0</td>\n",
       "      <td>SAN</td>\n",
       "      <td>SFO</td>\n",
       "      <td>447.0</td>\n",
       "      <td>0</td>\n",
       "      <td>0</td>\n",
       "    </tr>\n",
       "    <tr>\n",
       "      <th>2</th>\n",
       "      <td>1987</td>\n",
       "      <td>10</td>\n",
       "      <td>6</td>\n",
       "      <td>741.0</td>\n",
       "      <td>918.0</td>\n",
       "      <td>1451</td>\n",
       "      <td>97.0</td>\n",
       "      <td>29.0</td>\n",
       "      <td>11.0</td>\n",
       "      <td>SAN</td>\n",
       "      <td>SFO</td>\n",
       "      <td>447.0</td>\n",
       "      <td>0</td>\n",
       "      <td>0</td>\n",
       "    </tr>\n",
       "    <tr>\n",
       "      <th>3</th>\n",
       "      <td>1987</td>\n",
       "      <td>10</td>\n",
       "      <td>7</td>\n",
       "      <td>729.0</td>\n",
       "      <td>847.0</td>\n",
       "      <td>1451</td>\n",
       "      <td>78.0</td>\n",
       "      <td>-2.0</td>\n",
       "      <td>-1.0</td>\n",
       "      <td>SAN</td>\n",
       "      <td>SFO</td>\n",
       "      <td>447.0</td>\n",
       "      <td>0</td>\n",
       "      <td>0</td>\n",
       "    </tr>\n",
       "    <tr>\n",
       "      <th>4</th>\n",
       "      <td>1987</td>\n",
       "      <td>10</td>\n",
       "      <td>1</td>\n",
       "      <td>749.0</td>\n",
       "      <td>922.0</td>\n",
       "      <td>1451</td>\n",
       "      <td>93.0</td>\n",
       "      <td>33.0</td>\n",
       "      <td>19.0</td>\n",
       "      <td>SAN</td>\n",
       "      <td>SFO</td>\n",
       "      <td>447.0</td>\n",
       "      <td>0</td>\n",
       "      <td>0</td>\n",
       "    </tr>\n",
       "  </tbody>\n",
       "</table>\n",
       "</div>"
      ],
      "text/plain": [
       "   Year  Month  DayOfWeek  DepTime  ArrTime  FlightNum  ActualElapsedTime  \\\n",
       "0  1987     10          3    741.0    912.0       1451               91.0   \n",
       "1  1987     10          4    729.0    903.0       1451               94.0   \n",
       "2  1987     10          6    741.0    918.0       1451               97.0   \n",
       "3  1987     10          7    729.0    847.0       1451               78.0   \n",
       "4  1987     10          1    749.0    922.0       1451               93.0   \n",
       "\n",
       "   ArrDelay  DepDelay Origin Dest  Distance  Cancelled  Diverted  \n",
       "0      23.0      11.0    SAN  SFO     447.0          0         0  \n",
       "1      14.0      -1.0    SAN  SFO     447.0          0         0  \n",
       "2      29.0      11.0    SAN  SFO     447.0          0         0  \n",
       "3      -2.0      -1.0    SAN  SFO     447.0          0         0  \n",
       "4      33.0      19.0    SAN  SFO     447.0          0         0  "
      ]
     },
     "execution_count": 9,
     "metadata": {},
     "output_type": "execute_result"
    }
   ],
   "source": [
    "df_copy.head()"
   ]
  },
  {
   "cell_type": "markdown",
   "metadata": {},
   "source": [
    "#### we need to change number of months to name of months and it same of days "
   ]
  },
  {
   "cell_type": "code",
   "execution_count": 10,
   "metadata": {},
   "outputs": [],
   "source": [
    "df_copy[\"Month\"]= df_copy[\"Month\"].astype(str) \n"
   ]
  },
  {
   "cell_type": "code",
   "execution_count": 11,
   "metadata": {},
   "outputs": [],
   "source": [
    "look_up = {'01': 'Jan', '02': 'Feb', '03': 'Mar', '04': 'Apr', '05': 'May',\n",
    "            '06': 'Jun', '07': 'Jul', '08': 'Aug', '09': 'Sep', '10': 'Oct', '11': 'Nov', '12': 'Dec'}\n",
    "df_copy['Month'] = df_copy['Month'].apply(lambda x: look_up[x])\n"
   ]
  },
  {
   "cell_type": "code",
   "execution_count": 12,
   "metadata": {},
   "outputs": [],
   "source": [
    "days = {1:'Mon',2:'Tues',3:'Weds',4:'Thurs',5:'Fri',6:'Sat',7:'Sun'}\n",
    "df_copy['DayOfWeek'] = df_copy['DayOfWeek'].apply(lambda x: days[x])"
   ]
  },
  {
   "cell_type": "code",
   "execution_count": 13,
   "metadata": {
    "scrolled": true
   },
   "outputs": [
    {
     "data": {
      "text/html": [
       "<div>\n",
       "<style scoped>\n",
       "    .dataframe tbody tr th:only-of-type {\n",
       "        vertical-align: middle;\n",
       "    }\n",
       "\n",
       "    .dataframe tbody tr th {\n",
       "        vertical-align: top;\n",
       "    }\n",
       "\n",
       "    .dataframe thead th {\n",
       "        text-align: right;\n",
       "    }\n",
       "</style>\n",
       "<table border=\"1\" class=\"dataframe\">\n",
       "  <thead>\n",
       "    <tr style=\"text-align: right;\">\n",
       "      <th></th>\n",
       "      <th>Year</th>\n",
       "      <th>Month</th>\n",
       "      <th>DayOfWeek</th>\n",
       "      <th>DepTime</th>\n",
       "      <th>ArrTime</th>\n",
       "      <th>FlightNum</th>\n",
       "      <th>ActualElapsedTime</th>\n",
       "      <th>ArrDelay</th>\n",
       "      <th>DepDelay</th>\n",
       "      <th>Origin</th>\n",
       "      <th>Dest</th>\n",
       "      <th>Distance</th>\n",
       "      <th>Cancelled</th>\n",
       "      <th>Diverted</th>\n",
       "    </tr>\n",
       "  </thead>\n",
       "  <tbody>\n",
       "    <tr>\n",
       "      <th>0</th>\n",
       "      <td>1987</td>\n",
       "      <td>Oct</td>\n",
       "      <td>Weds</td>\n",
       "      <td>741.0</td>\n",
       "      <td>912.0</td>\n",
       "      <td>1451</td>\n",
       "      <td>91.0</td>\n",
       "      <td>23.0</td>\n",
       "      <td>11.0</td>\n",
       "      <td>SAN</td>\n",
       "      <td>SFO</td>\n",
       "      <td>447.0</td>\n",
       "      <td>0</td>\n",
       "      <td>0</td>\n",
       "    </tr>\n",
       "    <tr>\n",
       "      <th>1</th>\n",
       "      <td>1987</td>\n",
       "      <td>Oct</td>\n",
       "      <td>Thurs</td>\n",
       "      <td>729.0</td>\n",
       "      <td>903.0</td>\n",
       "      <td>1451</td>\n",
       "      <td>94.0</td>\n",
       "      <td>14.0</td>\n",
       "      <td>-1.0</td>\n",
       "      <td>SAN</td>\n",
       "      <td>SFO</td>\n",
       "      <td>447.0</td>\n",
       "      <td>0</td>\n",
       "      <td>0</td>\n",
       "    </tr>\n",
       "    <tr>\n",
       "      <th>2</th>\n",
       "      <td>1987</td>\n",
       "      <td>Oct</td>\n",
       "      <td>Sat</td>\n",
       "      <td>741.0</td>\n",
       "      <td>918.0</td>\n",
       "      <td>1451</td>\n",
       "      <td>97.0</td>\n",
       "      <td>29.0</td>\n",
       "      <td>11.0</td>\n",
       "      <td>SAN</td>\n",
       "      <td>SFO</td>\n",
       "      <td>447.0</td>\n",
       "      <td>0</td>\n",
       "      <td>0</td>\n",
       "    </tr>\n",
       "    <tr>\n",
       "      <th>3</th>\n",
       "      <td>1987</td>\n",
       "      <td>Oct</td>\n",
       "      <td>Sun</td>\n",
       "      <td>729.0</td>\n",
       "      <td>847.0</td>\n",
       "      <td>1451</td>\n",
       "      <td>78.0</td>\n",
       "      <td>-2.0</td>\n",
       "      <td>-1.0</td>\n",
       "      <td>SAN</td>\n",
       "      <td>SFO</td>\n",
       "      <td>447.0</td>\n",
       "      <td>0</td>\n",
       "      <td>0</td>\n",
       "    </tr>\n",
       "    <tr>\n",
       "      <th>4</th>\n",
       "      <td>1987</td>\n",
       "      <td>Oct</td>\n",
       "      <td>Mon</td>\n",
       "      <td>749.0</td>\n",
       "      <td>922.0</td>\n",
       "      <td>1451</td>\n",
       "      <td>93.0</td>\n",
       "      <td>33.0</td>\n",
       "      <td>19.0</td>\n",
       "      <td>SAN</td>\n",
       "      <td>SFO</td>\n",
       "      <td>447.0</td>\n",
       "      <td>0</td>\n",
       "      <td>0</td>\n",
       "    </tr>\n",
       "  </tbody>\n",
       "</table>\n",
       "</div>"
      ],
      "text/plain": [
       "   Year Month DayOfWeek  DepTime  ArrTime  FlightNum  ActualElapsedTime  \\\n",
       "0  1987   Oct      Weds    741.0    912.0       1451               91.0   \n",
       "1  1987   Oct     Thurs    729.0    903.0       1451               94.0   \n",
       "2  1987   Oct       Sat    741.0    918.0       1451               97.0   \n",
       "3  1987   Oct       Sun    729.0    847.0       1451               78.0   \n",
       "4  1987   Oct       Mon    749.0    922.0       1451               93.0   \n",
       "\n",
       "   ArrDelay  DepDelay Origin Dest  Distance  Cancelled  Diverted  \n",
       "0      23.0      11.0    SAN  SFO     447.0          0         0  \n",
       "1      14.0      -1.0    SAN  SFO     447.0          0         0  \n",
       "2      29.0      11.0    SAN  SFO     447.0          0         0  \n",
       "3      -2.0      -1.0    SAN  SFO     447.0          0         0  \n",
       "4      33.0      19.0    SAN  SFO     447.0          0         0  "
      ]
     },
     "execution_count": 13,
     "metadata": {},
     "output_type": "execute_result"
    }
   ],
   "source": [
    "df_copy.head()"
   ]
  },
  {
   "cell_type": "code",
   "execution_count": 14,
   "metadata": {},
   "outputs": [
    {
     "data": {
      "text/html": [
       "<div>\n",
       "<style scoped>\n",
       "    .dataframe tbody tr th:only-of-type {\n",
       "        vertical-align: middle;\n",
       "    }\n",
       "\n",
       "    .dataframe tbody tr th {\n",
       "        vertical-align: top;\n",
       "    }\n",
       "\n",
       "    .dataframe thead th {\n",
       "        text-align: right;\n",
       "    }\n",
       "</style>\n",
       "<table border=\"1\" class=\"dataframe\">\n",
       "  <thead>\n",
       "    <tr style=\"text-align: right;\">\n",
       "      <th></th>\n",
       "      <th>Year</th>\n",
       "      <th>Month</th>\n",
       "      <th>DayOfWeek</th>\n",
       "      <th>DepTime</th>\n",
       "      <th>ArrTime</th>\n",
       "      <th>FlightNum</th>\n",
       "      <th>ActualElapsedTime</th>\n",
       "      <th>ArrDelay</th>\n",
       "      <th>DepDelay</th>\n",
       "      <th>Origin</th>\n",
       "      <th>Dest</th>\n",
       "      <th>Distance</th>\n",
       "      <th>Cancelled</th>\n",
       "      <th>Diverted</th>\n",
       "      <th>Actual_Departure_Time</th>\n",
       "      <th>Actual_Arrival_Time</th>\n",
       "    </tr>\n",
       "  </thead>\n",
       "  <tbody>\n",
       "    <tr>\n",
       "      <th>0</th>\n",
       "      <td>1987</td>\n",
       "      <td>Oct</td>\n",
       "      <td>Weds</td>\n",
       "      <td>741.0</td>\n",
       "      <td>912.0</td>\n",
       "      <td>1451</td>\n",
       "      <td>91.0</td>\n",
       "      <td>23.0</td>\n",
       "      <td>11.0</td>\n",
       "      <td>SAN</td>\n",
       "      <td>SFO</td>\n",
       "      <td>447.0</td>\n",
       "      <td>0</td>\n",
       "      <td>0</td>\n",
       "      <td>12.350000</td>\n",
       "      <td>15.200000</td>\n",
       "    </tr>\n",
       "    <tr>\n",
       "      <th>1</th>\n",
       "      <td>1987</td>\n",
       "      <td>Oct</td>\n",
       "      <td>Thurs</td>\n",
       "      <td>729.0</td>\n",
       "      <td>903.0</td>\n",
       "      <td>1451</td>\n",
       "      <td>94.0</td>\n",
       "      <td>14.0</td>\n",
       "      <td>-1.0</td>\n",
       "      <td>SAN</td>\n",
       "      <td>SFO</td>\n",
       "      <td>447.0</td>\n",
       "      <td>0</td>\n",
       "      <td>0</td>\n",
       "      <td>12.150000</td>\n",
       "      <td>15.050000</td>\n",
       "    </tr>\n",
       "    <tr>\n",
       "      <th>2</th>\n",
       "      <td>1987</td>\n",
       "      <td>Oct</td>\n",
       "      <td>Sat</td>\n",
       "      <td>741.0</td>\n",
       "      <td>918.0</td>\n",
       "      <td>1451</td>\n",
       "      <td>97.0</td>\n",
       "      <td>29.0</td>\n",
       "      <td>11.0</td>\n",
       "      <td>SAN</td>\n",
       "      <td>SFO</td>\n",
       "      <td>447.0</td>\n",
       "      <td>0</td>\n",
       "      <td>0</td>\n",
       "      <td>12.350000</td>\n",
       "      <td>15.300000</td>\n",
       "    </tr>\n",
       "    <tr>\n",
       "      <th>3</th>\n",
       "      <td>1987</td>\n",
       "      <td>Oct</td>\n",
       "      <td>Sun</td>\n",
       "      <td>729.0</td>\n",
       "      <td>847.0</td>\n",
       "      <td>1451</td>\n",
       "      <td>78.0</td>\n",
       "      <td>-2.0</td>\n",
       "      <td>-1.0</td>\n",
       "      <td>SAN</td>\n",
       "      <td>SFO</td>\n",
       "      <td>447.0</td>\n",
       "      <td>0</td>\n",
       "      <td>0</td>\n",
       "      <td>12.150000</td>\n",
       "      <td>14.116667</td>\n",
       "    </tr>\n",
       "    <tr>\n",
       "      <th>4</th>\n",
       "      <td>1987</td>\n",
       "      <td>Oct</td>\n",
       "      <td>Mon</td>\n",
       "      <td>749.0</td>\n",
       "      <td>922.0</td>\n",
       "      <td>1451</td>\n",
       "      <td>93.0</td>\n",
       "      <td>33.0</td>\n",
       "      <td>19.0</td>\n",
       "      <td>SAN</td>\n",
       "      <td>SFO</td>\n",
       "      <td>447.0</td>\n",
       "      <td>0</td>\n",
       "      <td>0</td>\n",
       "      <td>12.483333</td>\n",
       "      <td>15.366667</td>\n",
       "    </tr>\n",
       "  </tbody>\n",
       "</table>\n",
       "</div>"
      ],
      "text/plain": [
       "   Year Month DayOfWeek  DepTime  ArrTime  FlightNum  ActualElapsedTime  \\\n",
       "0  1987   Oct      Weds    741.0    912.0       1451               91.0   \n",
       "1  1987   Oct     Thurs    729.0    903.0       1451               94.0   \n",
       "2  1987   Oct       Sat    741.0    918.0       1451               97.0   \n",
       "3  1987   Oct       Sun    729.0    847.0       1451               78.0   \n",
       "4  1987   Oct       Mon    749.0    922.0       1451               93.0   \n",
       "\n",
       "   ArrDelay  DepDelay Origin Dest  Distance  Cancelled  Diverted  \\\n",
       "0      23.0      11.0    SAN  SFO     447.0          0         0   \n",
       "1      14.0      -1.0    SAN  SFO     447.0          0         0   \n",
       "2      29.0      11.0    SAN  SFO     447.0          0         0   \n",
       "3      -2.0      -1.0    SAN  SFO     447.0          0         0   \n",
       "4      33.0      19.0    SAN  SFO     447.0          0         0   \n",
       "\n",
       "   Actual_Departure_Time  Actual_Arrival_Time  \n",
       "0              12.350000            15.200000  \n",
       "1              12.150000            15.050000  \n",
       "2              12.350000            15.300000  \n",
       "3              12.150000            14.116667  \n",
       "4              12.483333            15.366667  "
      ]
     },
     "execution_count": 14,
     "metadata": {},
     "output_type": "execute_result"
    }
   ],
   "source": [
    "df_copy['Actual_Departure_Time']=df_copy['DepTime']/60 # Actual_Departure_Time BY hours \n",
    "df_copy['Actual_Arrival_Time']=df_copy['ArrTime']/60 # Actual_Arrival_Time BY hours\n",
    "\n",
    "\n",
    "df_copy['Actual_Departure_Time']=df_copy['Actual_Departure_Time'].astype(float)\n",
    "df_copy['Actual_Arrival_Time']=df_copy['Actual_Arrival_Time'].astype(float)\n",
    "df_copy.head()"
   ]
  },
  {
   "cell_type": "code",
   "execution_count": 15,
   "metadata": {},
   "outputs": [
    {
     "name": "stderr",
     "output_type": "stream",
     "text": [
      "<ipython-input-15-5e22c18e674c>:2: SettingWithCopyWarning: \n",
      "A value is trying to be set on a copy of a slice from a DataFrame\n",
      "\n",
      "See the caveats in the documentation: https://pandas.pydata.org/pandas-docs/stable/user_guide/indexing.html#returning-a-view-versus-a-copy\n",
      "  df_copy['period_day'][(df_copy['Actual_Departure_Time'] >= 12) & (df_copy['Actual_Departure_Time'] <= 17)] = 'afternoon'\n",
      "<ipython-input-15-5e22c18e674c>:3: SettingWithCopyWarning: \n",
      "A value is trying to be set on a copy of a slice from a DataFrame\n",
      "\n",
      "See the caveats in the documentation: https://pandas.pydata.org/pandas-docs/stable/user_guide/indexing.html#returning-a-view-versus-a-copy\n",
      "  df_copy['period_day'][(df_copy['Actual_Departure_Time'] >= 18) & (df_copy['Actual_Departure_Time'] <= 23)] = 'night'\n"
     ]
    },
    {
     "data": {
      "text/html": [
       "<div>\n",
       "<style scoped>\n",
       "    .dataframe tbody tr th:only-of-type {\n",
       "        vertical-align: middle;\n",
       "    }\n",
       "\n",
       "    .dataframe tbody tr th {\n",
       "        vertical-align: top;\n",
       "    }\n",
       "\n",
       "    .dataframe thead th {\n",
       "        text-align: right;\n",
       "    }\n",
       "</style>\n",
       "<table border=\"1\" class=\"dataframe\">\n",
       "  <thead>\n",
       "    <tr style=\"text-align: right;\">\n",
       "      <th></th>\n",
       "      <th>Year</th>\n",
       "      <th>Month</th>\n",
       "      <th>DayOfWeek</th>\n",
       "      <th>DepTime</th>\n",
       "      <th>ArrTime</th>\n",
       "      <th>FlightNum</th>\n",
       "      <th>ActualElapsedTime</th>\n",
       "      <th>ArrDelay</th>\n",
       "      <th>DepDelay</th>\n",
       "      <th>Origin</th>\n",
       "      <th>Dest</th>\n",
       "      <th>Distance</th>\n",
       "      <th>Cancelled</th>\n",
       "      <th>Diverted</th>\n",
       "      <th>Actual_Departure_Time</th>\n",
       "      <th>Actual_Arrival_Time</th>\n",
       "      <th>period_day</th>\n",
       "    </tr>\n",
       "  </thead>\n",
       "  <tbody>\n",
       "    <tr>\n",
       "      <th>0</th>\n",
       "      <td>1987</td>\n",
       "      <td>Oct</td>\n",
       "      <td>Weds</td>\n",
       "      <td>741.0</td>\n",
       "      <td>912.0</td>\n",
       "      <td>1451</td>\n",
       "      <td>91.0</td>\n",
       "      <td>23.0</td>\n",
       "      <td>11.0</td>\n",
       "      <td>SAN</td>\n",
       "      <td>SFO</td>\n",
       "      <td>447.0</td>\n",
       "      <td>0</td>\n",
       "      <td>0</td>\n",
       "      <td>12.35</td>\n",
       "      <td>15.2</td>\n",
       "      <td>afternoon</td>\n",
       "    </tr>\n",
       "  </tbody>\n",
       "</table>\n",
       "</div>"
      ],
      "text/plain": [
       "   Year Month DayOfWeek  DepTime  ArrTime  FlightNum  ActualElapsedTime  \\\n",
       "0  1987   Oct      Weds    741.0    912.0       1451               91.0   \n",
       "\n",
       "   ArrDelay  DepDelay Origin Dest  Distance  Cancelled  Diverted  \\\n",
       "0      23.0      11.0    SAN  SFO     447.0          0         0   \n",
       "\n",
       "   Actual_Departure_Time  Actual_Arrival_Time period_day  \n",
       "0                  12.35                 15.2  afternoon  "
      ]
     },
     "execution_count": 15,
     "metadata": {},
     "output_type": "execute_result"
    }
   ],
   "source": [
    "df_copy['period_day'] = 'morning'\n",
    "df_copy['period_day'][(df_copy['Actual_Departure_Time'] >= 12) & (df_copy['Actual_Departure_Time'] <= 17)] = 'afternoon'\n",
    "df_copy['period_day'][(df_copy['Actual_Departure_Time'] >= 18) & (df_copy['Actual_Departure_Time'] <= 23)] = 'night'\n",
    "df_copy.head(1)"
   ]
  },
  {
   "cell_type": "code",
   "execution_count": 16,
   "metadata": {},
   "outputs": [
    {
     "data": {
      "text/html": [
       "<div>\n",
       "<style scoped>\n",
       "    .dataframe tbody tr th:only-of-type {\n",
       "        vertical-align: middle;\n",
       "    }\n",
       "\n",
       "    .dataframe tbody tr th {\n",
       "        vertical-align: top;\n",
       "    }\n",
       "\n",
       "    .dataframe thead th {\n",
       "        text-align: right;\n",
       "    }\n",
       "</style>\n",
       "<table border=\"1\" class=\"dataframe\">\n",
       "  <thead>\n",
       "    <tr style=\"text-align: right;\">\n",
       "      <th></th>\n",
       "      <th>Year</th>\n",
       "      <th>Month</th>\n",
       "      <th>DayOfWeek</th>\n",
       "      <th>DepTime</th>\n",
       "      <th>ArrTime</th>\n",
       "      <th>FlightNum</th>\n",
       "      <th>ActualElapsedTime</th>\n",
       "      <th>ArrDelay</th>\n",
       "      <th>DepDelay</th>\n",
       "      <th>Origin</th>\n",
       "      <th>Dest</th>\n",
       "      <th>Distance</th>\n",
       "      <th>Cancelled</th>\n",
       "      <th>Diverted</th>\n",
       "      <th>Actual_Departure_Time</th>\n",
       "      <th>Actual_Arrival_Time</th>\n",
       "      <th>period_day</th>\n",
       "    </tr>\n",
       "  </thead>\n",
       "  <tbody>\n",
       "    <tr>\n",
       "      <th>0</th>\n",
       "      <td>1987</td>\n",
       "      <td>Oct</td>\n",
       "      <td>Weds</td>\n",
       "      <td>741.0</td>\n",
       "      <td>912.0</td>\n",
       "      <td>1451</td>\n",
       "      <td>91.0</td>\n",
       "      <td>23.0</td>\n",
       "      <td>11.0</td>\n",
       "      <td>SAN</td>\n",
       "      <td>SFO</td>\n",
       "      <td>447.0</td>\n",
       "      <td>0</td>\n",
       "      <td>0</td>\n",
       "      <td>12.350000</td>\n",
       "      <td>15.200000</td>\n",
       "      <td>afternoon</td>\n",
       "    </tr>\n",
       "    <tr>\n",
       "      <th>1</th>\n",
       "      <td>1987</td>\n",
       "      <td>Oct</td>\n",
       "      <td>Thurs</td>\n",
       "      <td>729.0</td>\n",
       "      <td>903.0</td>\n",
       "      <td>1451</td>\n",
       "      <td>94.0</td>\n",
       "      <td>14.0</td>\n",
       "      <td>-1.0</td>\n",
       "      <td>SAN</td>\n",
       "      <td>SFO</td>\n",
       "      <td>447.0</td>\n",
       "      <td>0</td>\n",
       "      <td>0</td>\n",
       "      <td>12.150000</td>\n",
       "      <td>15.050000</td>\n",
       "      <td>afternoon</td>\n",
       "    </tr>\n",
       "    <tr>\n",
       "      <th>2</th>\n",
       "      <td>1987</td>\n",
       "      <td>Oct</td>\n",
       "      <td>Sat</td>\n",
       "      <td>741.0</td>\n",
       "      <td>918.0</td>\n",
       "      <td>1451</td>\n",
       "      <td>97.0</td>\n",
       "      <td>29.0</td>\n",
       "      <td>11.0</td>\n",
       "      <td>SAN</td>\n",
       "      <td>SFO</td>\n",
       "      <td>447.0</td>\n",
       "      <td>0</td>\n",
       "      <td>0</td>\n",
       "      <td>12.350000</td>\n",
       "      <td>15.300000</td>\n",
       "      <td>afternoon</td>\n",
       "    </tr>\n",
       "    <tr>\n",
       "      <th>3</th>\n",
       "      <td>1987</td>\n",
       "      <td>Oct</td>\n",
       "      <td>Sun</td>\n",
       "      <td>729.0</td>\n",
       "      <td>847.0</td>\n",
       "      <td>1451</td>\n",
       "      <td>78.0</td>\n",
       "      <td>-2.0</td>\n",
       "      <td>-1.0</td>\n",
       "      <td>SAN</td>\n",
       "      <td>SFO</td>\n",
       "      <td>447.0</td>\n",
       "      <td>0</td>\n",
       "      <td>0</td>\n",
       "      <td>12.150000</td>\n",
       "      <td>14.116667</td>\n",
       "      <td>afternoon</td>\n",
       "    </tr>\n",
       "    <tr>\n",
       "      <th>4</th>\n",
       "      <td>1987</td>\n",
       "      <td>Oct</td>\n",
       "      <td>Mon</td>\n",
       "      <td>749.0</td>\n",
       "      <td>922.0</td>\n",
       "      <td>1451</td>\n",
       "      <td>93.0</td>\n",
       "      <td>33.0</td>\n",
       "      <td>19.0</td>\n",
       "      <td>SAN</td>\n",
       "      <td>SFO</td>\n",
       "      <td>447.0</td>\n",
       "      <td>0</td>\n",
       "      <td>0</td>\n",
       "      <td>12.483333</td>\n",
       "      <td>15.366667</td>\n",
       "      <td>afternoon</td>\n",
       "    </tr>\n",
       "  </tbody>\n",
       "</table>\n",
       "</div>"
      ],
      "text/plain": [
       "   Year Month DayOfWeek  DepTime  ArrTime  FlightNum  ActualElapsedTime  \\\n",
       "0  1987   Oct      Weds    741.0    912.0       1451               91.0   \n",
       "1  1987   Oct     Thurs    729.0    903.0       1451               94.0   \n",
       "2  1987   Oct       Sat    741.0    918.0       1451               97.0   \n",
       "3  1987   Oct       Sun    729.0    847.0       1451               78.0   \n",
       "4  1987   Oct       Mon    749.0    922.0       1451               93.0   \n",
       "\n",
       "   ArrDelay  DepDelay Origin Dest  Distance  Cancelled  Diverted  \\\n",
       "0      23.0      11.0    SAN  SFO     447.0          0         0   \n",
       "1      14.0      -1.0    SAN  SFO     447.0          0         0   \n",
       "2      29.0      11.0    SAN  SFO     447.0          0         0   \n",
       "3      -2.0      -1.0    SAN  SFO     447.0          0         0   \n",
       "4      33.0      19.0    SAN  SFO     447.0          0         0   \n",
       "\n",
       "   Actual_Departure_Time  Actual_Arrival_Time period_day  \n",
       "0              12.350000            15.200000  afternoon  \n",
       "1              12.150000            15.050000  afternoon  \n",
       "2              12.350000            15.300000  afternoon  \n",
       "3              12.150000            14.116667  afternoon  \n",
       "4              12.483333            15.366667  afternoon  "
      ]
     },
     "execution_count": 16,
     "metadata": {},
     "output_type": "execute_result"
    }
   ],
   "source": [
    "df_copy.head()"
   ]
  },
  {
   "cell_type": "markdown",
   "metadata": {},
   "source": [
    "\n",
    "## A graph showing the distribution of flights on the days of the week"
   ]
  },
  {
   "cell_type": "code",
   "execution_count": 17,
   "metadata": {},
   "outputs": [
    {
     "data": {
      "image/png": "[encoded data removed]",
      "text/plain": [
       "<Figure size 432x288 with 1 Axes>"
      ]
     },
     "metadata": {
      "needs_background": "light"
     },
     "output_type": "display_data"
    }
   ],
   "source": [
    "base_color = sb.color_palette()[0]\n",
    "sb.countplot(data=df_copy, x='DayOfWeek', color=base_color)\n",
    "plt.xlabel('weekday')\n",
    "plt.ylabel('Count')\n",
    "plt.title('days distribution');"
   ]
  },
  {
   "cell_type": "code",
   "execution_count": 18,
   "metadata": {},
   "outputs": [
    {
     "data": {
      "text/plain": [
       "Oct    448620\n",
       "Dec    440403\n",
       "Nov    422803\n",
       "Name: Month, dtype: int64"
      ]
     },
     "execution_count": 18,
     "metadata": {},
     "output_type": "execute_result"
    }
   ],
   "source": [
    "df_copy['Month'].value_counts()\n"
   ]
  },
  {
   "cell_type": "markdown",
   "metadata": {},
   "source": [
    "## A graph showing the distribution of flights on the month"
   ]
  },
  {
   "cell_type": "code",
   "execution_count": 19,
   "metadata": {},
   "outputs": [
    {
     "data": {
      "image/png": "[encoded data removed]",
      "text/plain": [
       "<Figure size 432x288 with 1 Axes>"
      ]
     },
     "metadata": {
      "needs_background": "light"
     },
     "output_type": "display_data"
    }
   ],
   "source": [
    "base_color = sb.color_palette()[0]\n",
    "sb.countplot(data=df_copy, x='Month', color=base_color)\n",
    "plt.xlabel('Month')\n",
    "plt.ylabel('Count')\n",
    "plt.title('Month distribution' , fontsize=12);"
   ]
  },
  {
   "cell_type": "code",
   "execution_count": 20,
   "metadata": {},
   "outputs": [
    {
     "data": {
      "text/plain": [
       "0    1292141\n",
       "1      19685\n",
       "Name: Cancelled, dtype: int64"
      ]
     },
     "execution_count": 20,
     "metadata": {},
     "output_type": "execute_result"
    }
   ],
   "source": [
    "df_copy['Cancelled'].value_counts()\n"
   ]
  },
  {
   "cell_type": "code",
   "execution_count": null,
   "metadata": {},
   "outputs": [],
   "source": []
  },
  {
   "cell_type": "code",
   "execution_count": 21,
   "metadata": {},
   "outputs": [],
   "source": [
    "not_Cancelled_df = df_copy[df_copy['Cancelled']=='0'\n",
    "                             ].groupby(['Cancelled']).agg({'FlightNum' : 'count'}).rename(columns={'FlightNum':'count'}).reset_index()\n",
    "Cancelled_df = df_copy[df_copy['Cancelled']=='1'\n",
    "                             ].groupby(['Cancelled']).agg({'FlightNum' : 'count'}).rename(columns={'FlightNum':'count'}).reset_index()"
   ]
  },
  {
   "cell_type": "code",
   "execution_count": 22,
   "metadata": {},
   "outputs": [],
   "source": [
    "not_Cancelled = df.query('Cancelled == \"0\"')['FlightNum'].count()\n",
    "Cancelledd = df.query('Cancelled == \"1\"')['FlightNum'].count()"
   ]
  },
  {
   "cell_type": "code",
   "execution_count": 23,
   "metadata": {},
   "outputs": [],
   "source": [
    "not_Cancelled_per= not_Cancelled/df_copy['FlightNum'].count()\n",
    "Cancelled_per = Cancelledd/df_copy['FlightNum'].count()"
   ]
  },
  {
   "cell_type": "code",
   "execution_count": 24,
   "metadata": {},
   "outputs": [
    {
     "data": {
      "text/plain": [
       "0.9849941989257721"
      ]
     },
     "execution_count": 24,
     "metadata": {},
     "output_type": "execute_result"
    }
   ],
   "source": [
    "not_Cancelled_per"
   ]
  },
  {
   "cell_type": "code",
   "execution_count": 25,
   "metadata": {},
   "outputs": [
    {
     "data": {
      "text/plain": [
       "0.015005801074227831"
      ]
     },
     "execution_count": 25,
     "metadata": {},
     "output_type": "execute_result"
    }
   ],
   "source": [
    "Cancelled_per"
   ]
  },
  {
   "cell_type": "markdown",
   "metadata": {},
   "source": [
    "## Percentage of flights canceled compared to completed flights"
   ]
  },
  {
   "cell_type": "code",
   "execution_count": 26,
   "metadata": {},
   "outputs": [
    {
     "name": "stderr",
     "output_type": "stream",
     "text": [
      "<ipython-input-26-760aad382d59>:3: MatplotlibDeprecationWarning: normalize=None does not normalize if the sum is less than 1 but this behavior is deprecated since 3.3 until two minor releases later. After the deprecation period the default value will be normalize=True. To prevent normalization pass normalize=False \n",
      "  plt.pie(percent, labels=name, autopct='%0.f%%', shadow=True, startangle=45);\n"
     ]
    },
    {
     "data": {
      "image/png": "[encoded data removed]",
      "text/plain": [
       "<Figure size 432x288 with 1 Axes>"
      ]
     },
     "metadata": {},
     "output_type": "display_data"
    }
   ],
   "source": [
    "name = ['completed', 'canceled']\n",
    "percent = [ 0.984 , 0.015]\n",
    "plt.pie(percent, labels=name, autopct='%0.f%%', shadow=True, startangle=45);\n",
    "plt.suptitle('Percentage of completed and canceled fot Flights', fontsize=12);"
   ]
  },
  {
   "cell_type": "code",
   "execution_count": 27,
   "metadata": {},
   "outputs": [
    {
     "data": {
      "text/plain": [
       "0    1308011\n",
       "1       3815\n",
       "Name: Diverted, dtype: int64"
      ]
     },
     "execution_count": 27,
     "metadata": {},
     "output_type": "execute_result"
    }
   ],
   "source": [
    "df_copy['Diverted'].value_counts()\n"
   ]
  },
  {
   "cell_type": "code",
   "execution_count": 28,
   "metadata": {},
   "outputs": [],
   "source": [
    "not_Diverted_df = df_copy[df_copy['Diverted']=='0'\n",
    "                             ].groupby(['Diverted']).agg({'FlightNum' : 'count'}).rename(columns={'FlightNum':'count'}).reset_index()\n",
    "Diverted_df = df_copy[df_copy['Diverted']=='1'\n",
    "                             ].groupby(['Diverted']).agg({'FlightNum' : 'count'}).rename(columns={'FlightNum':'count'}).reset_index()"
   ]
  },
  {
   "cell_type": "code",
   "execution_count": 29,
   "metadata": {},
   "outputs": [],
   "source": [
    "not_Diverted = df.query('Diverted == \"0\"')['FlightNum'].count()\n",
    "Divertedd = df.query('Diverted == \"1\"')['FlightNum'].count()"
   ]
  },
  {
   "cell_type": "code",
   "execution_count": 30,
   "metadata": {},
   "outputs": [],
   "source": [
    "not_Diverted_per= not_Diverted/df_copy['FlightNum'].count()\n",
    "Divertedd_per = Divertedd/df_copy['FlightNum'].count()"
   ]
  },
  {
   "cell_type": "code",
   "execution_count": 31,
   "metadata": {},
   "outputs": [
    {
     "data": {
      "text/plain": [
       "0.9970918399238924"
      ]
     },
     "execution_count": 31,
     "metadata": {},
     "output_type": "execute_result"
    }
   ],
   "source": [
    "not_Diverted_per"
   ]
  },
  {
   "cell_type": "code",
   "execution_count": 32,
   "metadata": {},
   "outputs": [
    {
     "data": {
      "text/plain": [
       "0.0029081600761076544"
      ]
     },
     "execution_count": 32,
     "metadata": {},
     "output_type": "execute_result"
    }
   ],
   "source": [
    "Divertedd_per"
   ]
  },
  {
   "cell_type": "markdown",
   "metadata": {},
   "source": [
    "## The flights transferred to another destination are very few and may reach 3815 flights out of 1308011 flights, and this is a very small percentage, which is less than 0.0029"
   ]
  },
  {
   "cell_type": "code",
   "execution_count": 33,
   "metadata": {},
   "outputs": [
    {
     "name": "stderr",
     "output_type": "stream",
     "text": [
      "<ipython-input-33-910b4757236e>:3: MatplotlibDeprecationWarning: normalize=None does not normalize if the sum is less than 1 but this behavior is deprecated since 3.3 until two minor releases later. After the deprecation period the default value will be normalize=True. To prevent normalization pass normalize=False \n",
      "  plt.pie(percent, labels=name, autopct='%0.1f%%', shadow=True, startangle=45);\n"
     ]
    },
    {
     "data": {
      "image/png": "[encoded data removed]",
      "text/plain": [
       "<Figure size 432x288 with 1 Axes>"
      ]
     },
     "metadata": {},
     "output_type": "display_data"
    }
   ],
   "source": [
    "name = ['completed', 'Diverted']\n",
    "percent = [ 0.9970 , 0.0029]\n",
    "plt.pie(percent, labels=name, autopct='%0.1f%%', shadow=True, startangle=45);\n",
    "plt.suptitle('Percentage of completed and Diverted for Flights ', fontsize=12);"
   ]
  },
  {
   "cell_type": "code",
   "execution_count": 34,
   "metadata": {},
   "outputs": [
    {
     "data": {
      "image/png": "[encoded data removed]",
      "text/plain": [
       "<Figure size 432x288 with 1 Axes>"
      ]
     },
     "metadata": {
      "needs_background": "light"
     },
     "output_type": "display_data"
    }
   ],
   "source": [
    "plt.subplot(1,2,1)\n",
    "bins=[10,100]\n",
    "plt.hist(data=df_copy , x='DepDelay', bins= bins , edgecolor='white');\n"
   ]
  },
  {
   "cell_type": "code",
   "execution_count": 35,
   "metadata": {},
   "outputs": [
    {
     "data": {
      "image/png": "[encoded data removed]",
      "text/plain": [
       "<Figure size 432x288 with 1 Axes>"
      ]
     },
     "metadata": {
      "needs_background": "light"
     },
     "output_type": "display_data"
    }
   ],
   "source": [
    "binwidth = np.log10(10)\n",
    "bin = 10**(np.arange(1,np.log10(df_copy.DepDelay.max()) + binwidth , binwidth))\n",
    "plt.hist(data=df_copy , x='DepDelay', bins= bins , edgecolor='white')\n",
    "plt.xscale('log');\n",
    "plt.xticks([10**x for x in np.arange(0,7)],[10**x for x in np.arange(0,7)]);"
   ]
  },
  {
   "cell_type": "code",
   "execution_count": null,
   "metadata": {},
   "outputs": [],
   "source": []
  },
  {
   "cell_type": "code",
   "execution_count": 36,
   "metadata": {},
   "outputs": [
    {
     "data": {
      "text/plain": [
       "morning      809221\n",
       "afternoon    254464\n",
       "night        248141\n",
       "Name: period_day, dtype: int64"
      ]
     },
     "execution_count": 36,
     "metadata": {},
     "output_type": "execute_result"
    }
   ],
   "source": [
    "df_copy['period_day'].value_counts()\n"
   ]
  },
  {
   "cell_type": "code",
   "execution_count": null,
   "metadata": {},
   "outputs": [],
   "source": []
  },
  {
   "cell_type": "code",
   "execution_count": 349,
   "metadata": {},
   "outputs": [
    {
     "data": {
      "text/plain": [
       "morning      275088\n",
       "afternoon     88146\n",
       "night         85386\n",
       "Name: period_day, dtype: int64"
      ]
     },
     "execution_count": 349,
     "metadata": {},
     "output_type": "execute_result"
    }
   ],
   "source": [
    "df_copy[df_copy['Month'] == 'Oct']['period_day'].value_counts()\n"
   ]
  },
  {
   "cell_type": "code",
   "execution_count": 350,
   "metadata": {},
   "outputs": [
    {
     "data": {
      "text/plain": [
       "morning      274669\n",
       "afternoon     83841\n",
       "night         81893\n",
       "Name: period_day, dtype: int64"
      ]
     },
     "execution_count": 350,
     "metadata": {},
     "output_type": "execute_result"
    }
   ],
   "source": [
    "df_copy[df_copy['Month'] == 'Dec']['period_day'].value_counts()\n"
   ]
  },
  {
   "cell_type": "code",
   "execution_count": 351,
   "metadata": {},
   "outputs": [
    {
     "data": {
      "text/plain": [
       "morning      259464\n",
       "afternoon     82477\n",
       "night         80862\n",
       "Name: period_day, dtype: int64"
      ]
     },
     "execution_count": 351,
     "metadata": {},
     "output_type": "execute_result"
    }
   ],
   "source": [
    "df_copy[df_copy['Month'] == 'Nov']['period_day'].value_counts()\n"
   ]
  },
  {
   "cell_type": "markdown",
   "metadata": {},
   "source": [
    "## A graph showing the number of flights for each time period in each month, in the month of October, the number of morning flights is 275088, the number of afternoon flights 88146 and the number of evening flights 85386, while in December the number of morning flights is 274669, the afternoon flights are 83841 and the number of evening flights is 81893, finally in the month of November. The number of morning flights is 259,464, the number of afternoon flights is 8,2477, and the number of evening flights is 80,862"
   ]
  },
  {
   "cell_type": "code",
   "execution_count": 352,
   "metadata": {},
   "outputs": [
    {
     "data": {
      "image/png": "[encoded data removed]",
      "text/plain": [
       "<Figure size 1080x360 with 1 Axes>"
      ]
     },
     "metadata": {
      "needs_background": "light"
     },
     "output_type": "display_data"
    }
   ],
   "source": [
    "plt.figure(figsize=[15,5])\n",
    "sb.countplot(data=df_copy, y='Month', hue='period_day')\n",
    "plt.title('trips for each time period each month' , fontsize=12);"
   ]
  },
  {
   "cell_type": "markdown",
   "metadata": {},
   "source": [
    "## Average Actual Elapsed Time in minutes Per time period \n",
    "### The average actual elapsed time for morning trips is 300 minutes and may reach a maximum of 420 minutes, and the average time for noon period 280 minutes, and it may reach a maximum of about 390 minutes, and finally the average time for the night time period is 290 and it may reach a maximum of 450 minutes"
   ]
  },
  {
   "cell_type": "code",
   "execution_count": 353,
   "metadata": {},
   "outputs": [
    {
     "data": {
      "image/png": "[encoded data removed]",
      "text/plain": [
       "<Figure size 432x288 with 1 Axes>"
      ]
     },
     "metadata": {
      "needs_background": "light"
     },
     "output_type": "display_data"
    }
   ],
   "source": [
    "period_day_count = df_copy.groupby([\"ActualElapsedTime\", \"period_day\"]).size().reset_index()\n",
    "\n",
    "sb.boxplot(x='ActualElapsedTime',y='period_day',data=period_day_count)\n",
    "plt.xlim(0,period_day_count['ActualElapsedTime'].quantile(0.90));\n",
    "plt.title('Average trips duration per time period',  fontsize=12);\n",
    "\n",
    "plt.show()"
   ]
  },
  {
   "cell_type": "code",
   "execution_count": null,
   "metadata": {},
   "outputs": [],
   "source": []
  },
  {
   "cell_type": "code",
   "execution_count": 117,
   "metadata": {},
   "outputs": [
    {
     "data": {
      "image/png": "[encoded data removed]",
      "text/plain": [
       "<Figure size 1080x288 with 1 Axes>"
      ]
     },
     "metadata": {
      "needs_background": "light"
     },
     "output_type": "display_data"
    }
   ],
   "source": [
    "\n",
    "plt.figure(figsize=[15,4])\n",
    "\n",
    "step = 5\n",
    "x_min, x_max = -30, 110\n",
    "plt.boxplot(x=df_copy[pd.notnull(df.DepDelay)].DepDelay, vert=False, showfliers=False)\n",
    "plt.xlim(x_min,x_max)\n",
    "plt.xticks(np.arange(x_min, x_max, step));"
   ]
  },
  {
   "cell_type": "code",
   "execution_count": 354,
   "metadata": {},
   "outputs": [
    {
     "name": "stdout",
     "output_type": "stream",
     "text": [
      "237\n"
     ]
    },
    {
     "data": {
      "text/plain": [
       "ORD    67830\n",
       "ATL    66783\n",
       "DFW    52450\n",
       "LAX    45597\n",
       "DEN    44284\n",
       "SFO    34948\n",
       "STL    32690\n",
       "EWR    31058\n",
       "PHX    30234\n",
       "PIT    29296\n",
       "Name: Dest, dtype: int64"
      ]
     },
     "execution_count": 354,
     "metadata": {},
     "output_type": "execute_result"
    }
   ],
   "source": [
    "print(len(df_copy['Dest'].value_counts()))\n",
    "df_copy['Dest'].value_counts()[0:10]"
   ]
  },
  {
   "cell_type": "code",
   "execution_count": 355,
   "metadata": {},
   "outputs": [
    {
     "data": {
      "text/plain": [
       "ORD    67830\n",
       "ATL    66783\n",
       "DFW    52450\n",
       "LAX    45597\n",
       "DEN    44284\n",
       "SFO    34948\n",
       "STL    32690\n",
       "EWR    31058\n",
       "PHX    30234\n",
       "PIT    29296\n",
       "Name: Dest, dtype: int64"
      ]
     },
     "execution_count": 355,
     "metadata": {},
     "output_type": "execute_result"
    }
   ],
   "source": [
    "locs = ['ORD','ATL','DFW','LAX','DEN','SFO','STL','EWR','PHX','PIT'] \n",
    "df_top10 = df_copy.loc[df_copy['Dest'].isin(locs)]\n",
    "df_top10['Dest'].value_counts()\n"
   ]
  },
  {
   "cell_type": "code",
   "execution_count": 356,
   "metadata": {},
   "outputs": [
    {
     "data": {
      "text/html": [
       "<div>\n",
       "<style scoped>\n",
       "    .dataframe tbody tr th:only-of-type {\n",
       "        vertical-align: middle;\n",
       "    }\n",
       "\n",
       "    .dataframe tbody tr th {\n",
       "        vertical-align: top;\n",
       "    }\n",
       "\n",
       "    .dataframe thead th {\n",
       "        text-align: right;\n",
       "    }\n",
       "</style>\n",
       "<table border=\"1\" class=\"dataframe\">\n",
       "  <thead>\n",
       "    <tr style=\"text-align: right;\">\n",
       "      <th></th>\n",
       "      <th>Year</th>\n",
       "      <th>Month</th>\n",
       "      <th>DayOfWeek</th>\n",
       "      <th>DepTime</th>\n",
       "      <th>ArrTime</th>\n",
       "      <th>FlightNum</th>\n",
       "      <th>ActualElapsedTime</th>\n",
       "      <th>ArrDelay</th>\n",
       "      <th>DepDelay</th>\n",
       "      <th>Origin</th>\n",
       "      <th>Dest</th>\n",
       "      <th>Distance</th>\n",
       "      <th>Cancelled</th>\n",
       "      <th>Diverted</th>\n",
       "      <th>Actual_Departure_Time</th>\n",
       "      <th>Actual_Arrival_Time</th>\n",
       "      <th>period_day</th>\n",
       "    </tr>\n",
       "  </thead>\n",
       "  <tbody>\n",
       "    <tr>\n",
       "      <th>0</th>\n",
       "      <td>1987</td>\n",
       "      <td>Oct</td>\n",
       "      <td>Weds</td>\n",
       "      <td>741.0</td>\n",
       "      <td>912.0</td>\n",
       "      <td>1451</td>\n",
       "      <td>91.0</td>\n",
       "      <td>23.0</td>\n",
       "      <td>11.0</td>\n",
       "      <td>SAN</td>\n",
       "      <td>SFO</td>\n",
       "      <td>447.0</td>\n",
       "      <td>0</td>\n",
       "      <td>0</td>\n",
       "      <td>12.350000</td>\n",
       "      <td>15.200000</td>\n",
       "      <td>afternoon</td>\n",
       "    </tr>\n",
       "    <tr>\n",
       "      <th>1</th>\n",
       "      <td>1987</td>\n",
       "      <td>Oct</td>\n",
       "      <td>Thurs</td>\n",
       "      <td>729.0</td>\n",
       "      <td>903.0</td>\n",
       "      <td>1451</td>\n",
       "      <td>94.0</td>\n",
       "      <td>14.0</td>\n",
       "      <td>-1.0</td>\n",
       "      <td>SAN</td>\n",
       "      <td>SFO</td>\n",
       "      <td>447.0</td>\n",
       "      <td>0</td>\n",
       "      <td>0</td>\n",
       "      <td>12.150000</td>\n",
       "      <td>15.050000</td>\n",
       "      <td>afternoon</td>\n",
       "    </tr>\n",
       "    <tr>\n",
       "      <th>2</th>\n",
       "      <td>1987</td>\n",
       "      <td>Oct</td>\n",
       "      <td>Sat</td>\n",
       "      <td>741.0</td>\n",
       "      <td>918.0</td>\n",
       "      <td>1451</td>\n",
       "      <td>97.0</td>\n",
       "      <td>29.0</td>\n",
       "      <td>11.0</td>\n",
       "      <td>SAN</td>\n",
       "      <td>SFO</td>\n",
       "      <td>447.0</td>\n",
       "      <td>0</td>\n",
       "      <td>0</td>\n",
       "      <td>12.350000</td>\n",
       "      <td>15.300000</td>\n",
       "      <td>afternoon</td>\n",
       "    </tr>\n",
       "    <tr>\n",
       "      <th>3</th>\n",
       "      <td>1987</td>\n",
       "      <td>Oct</td>\n",
       "      <td>Sun</td>\n",
       "      <td>729.0</td>\n",
       "      <td>847.0</td>\n",
       "      <td>1451</td>\n",
       "      <td>78.0</td>\n",
       "      <td>-2.0</td>\n",
       "      <td>-1.0</td>\n",
       "      <td>SAN</td>\n",
       "      <td>SFO</td>\n",
       "      <td>447.0</td>\n",
       "      <td>0</td>\n",
       "      <td>0</td>\n",
       "      <td>12.150000</td>\n",
       "      <td>14.116667</td>\n",
       "      <td>afternoon</td>\n",
       "    </tr>\n",
       "    <tr>\n",
       "      <th>4</th>\n",
       "      <td>1987</td>\n",
       "      <td>Oct</td>\n",
       "      <td>Mon</td>\n",
       "      <td>749.0</td>\n",
       "      <td>922.0</td>\n",
       "      <td>1451</td>\n",
       "      <td>93.0</td>\n",
       "      <td>33.0</td>\n",
       "      <td>19.0</td>\n",
       "      <td>SAN</td>\n",
       "      <td>SFO</td>\n",
       "      <td>447.0</td>\n",
       "      <td>0</td>\n",
       "      <td>0</td>\n",
       "      <td>12.483333</td>\n",
       "      <td>15.366667</td>\n",
       "      <td>afternoon</td>\n",
       "    </tr>\n",
       "  </tbody>\n",
       "</table>\n",
       "</div>"
      ],
      "text/plain": [
       "   Year Month DayOfWeek  DepTime  ArrTime  FlightNum  ActualElapsedTime  \\\n",
       "0  1987   Oct      Weds    741.0    912.0       1451               91.0   \n",
       "1  1987   Oct     Thurs    729.0    903.0       1451               94.0   \n",
       "2  1987   Oct       Sat    741.0    918.0       1451               97.0   \n",
       "3  1987   Oct       Sun    729.0    847.0       1451               78.0   \n",
       "4  1987   Oct       Mon    749.0    922.0       1451               93.0   \n",
       "\n",
       "   ArrDelay  DepDelay Origin Dest  Distance  Cancelled  Diverted  \\\n",
       "0      23.0      11.0    SAN  SFO     447.0          0         0   \n",
       "1      14.0      -1.0    SAN  SFO     447.0          0         0   \n",
       "2      29.0      11.0    SAN  SFO     447.0          0         0   \n",
       "3      -2.0      -1.0    SAN  SFO     447.0          0         0   \n",
       "4      33.0      19.0    SAN  SFO     447.0          0         0   \n",
       "\n",
       "   Actual_Departure_Time  Actual_Arrival_Time period_day  \n",
       "0              12.350000            15.200000  afternoon  \n",
       "1              12.150000            15.050000  afternoon  \n",
       "2              12.350000            15.300000  afternoon  \n",
       "3              12.150000            14.116667  afternoon  \n",
       "4              12.483333            15.366667  afternoon  "
      ]
     },
     "execution_count": 356,
     "metadata": {},
     "output_type": "execute_result"
    }
   ],
   "source": [
    "df_top10.head()"
   ]
  },
  {
   "cell_type": "markdown",
   "metadata": {},
   "source": [
    "## The top 10 cities people prefer and the number of flights for each month"
   ]
  },
  {
   "cell_type": "code",
   "execution_count": 357,
   "metadata": {},
   "outputs": [
    {
     "name": "stderr",
     "output_type": "stream",
     "text": [
      "C:\\Users\\LENOVO\\anaconda3\\lib\\site-packages\\seaborn\\categorical.py:3704: UserWarning: The `factorplot` function has been renamed to `catplot`. The original name will be removed in a future release. Please update your code. Note that the default `kind` in `factorplot` (`'point'`) has changed `'strip'` in `catplot`.\n",
      "  warnings.warn(msg)\n",
      "C:\\Users\\LENOVO\\anaconda3\\lib\\site-packages\\seaborn\\_decorators.py:36: FutureWarning: Pass the following variable as a keyword arg: x. From version 0.12, the only valid positional argument will be `data`, and passing other arguments without an explicit keyword will result in an error or misinterpretation.\n",
      "  warnings.warn(\n"
     ]
    },
    {
     "data": {
      "image/png": "[encoded data removed]",
      "text/plain": [
       "<Figure size 1800x720 with 10 Axes>"
      ]
     },
     "metadata": {
      "needs_background": "light"
     },
     "output_type": "display_data"
    }
   ],
   "source": [
    "sb.factorplot(\"Month\", col = \"Dest\", col_wrap = 5,data=df_top10 ,kind = \"count\")\n",
    "plt.show()"
   ]
  },
  {
   "cell_type": "code",
   "execution_count": 358,
   "metadata": {},
   "outputs": [
    {
     "data": {
      "image/png": "[encoded data removed]",
      "text/plain": [
       "<Figure size 432x288 with 1 Axes>"
      ]
     },
     "metadata": {
      "needs_background": "light"
     },
     "output_type": "display_data"
    }
   ],
   "source": [
    "   sb.boxplot(x='ActualElapsedTime',y='Month',data=df_top10)\n",
    "plt.xlim(0,df_top10['ActualElapsedTime'].quantile(0.90));\n",
    "plt.title('Average duration of trips per month',  fontsize=12);\n",
    "\n",
    "plt.show()"
   ]
  },
  {
   "cell_type": "code",
   "execution_count": 363,
   "metadata": {},
   "outputs": [],
   "source": [
    "# Just set a condition in the morning So we eant strt from 6 AM ()\n",
    "morning_df = df_copy[(df_copy['Actual_Departure_Time']>5) &(df_copy['period_day']=='morning')\n",
    "                             ].groupby(['DayOfWeek', 'Month' ,'period_day']).agg({'FlightNum' : 'count'}).rename(columns={'FlightNum':'count'}).reset_index()\n",
    "afternoon_df = df_copy[(df_copy['period_day']=='afternoon')\n",
    "                             ].groupby(['DayOfWeek', 'Month' ,'period_day']).agg({'FlightNum' : 'count'}).rename(columns={'FlightNum':'count'}).reset_index()\n",
    "night_df = df_copy[(df_copy['period_day']=='night')\n",
    "                             ].groupby(['DayOfWeek', 'Month' ,'period_day']).agg({'FlightNum' : 'count'}).rename(columns={'FlightNum':'count'}).reset_index()"
   ]
  },
  {
   "cell_type": "code",
   "execution_count": 368,
   "metadata": {},
   "outputs": [
    {
     "data": {
      "image/png": "[encoded data removed]",
      "text/plain": [
       "<Figure size 1584x288 with 6 Axes>"
      ]
     },
     "metadata": {
      "needs_background": "light"
     },
     "output_type": "display_data"
    }
   ],
   "source": [
    "f = plt.figure(figsize=(22,4))\n",
    "\n",
    "ax = f.add_subplot(1,3,1) \n",
    "\n",
    "heat_map_morning=morning_df.pivot('Month','DayOfWeek','count')\n",
    "dis=sb.heatmap(heat_map_morning,annot=True , fmt='d' )\n",
    "plt.title('Number of morning trips per hour with days' , fontsize= 13)\n",
    "ax2 = f.add_subplot(1,3,2) \n",
    "heat_map_afternoon=afternoon_df.pivot('Month','DayOfWeek','count')\n",
    "dis=sb.heatmap(heat_map_afternoon,annot=True , fmt='d' )\n",
    "plt.title('Number of afternoon trips per hour with days' ,fontsize=13)\n",
    "\n",
    "ax3 = f.add_subplot(1,3,3) \n",
    "heat_map_night=night_df.pivot('Month','DayOfWeek','count' )\n",
    "dis=sb.heatmap(heat_map_night,annot=True , fmt='d' )\n",
    "plt.title('Number of night trips per hour with days' ,  fontsize=13);"
   ]
  },
  {
   "cell_type": "code",
   "execution_count": null,
   "metadata": {},
   "outputs": [],
   "source": [
    "heat_map_morning=morning_df.pivot('Actual_Departure_Time','DayOfWeek','count')\n",
    "dis=sb.heatmap(heat_map_morning,annot=True , fmt='d' )\n",
    "plt.title('Number of morning trips per hour with days' , fontsize= 13)"
   ]
  },
  {
   "cell_type": "code",
   "execution_count": null,
   "metadata": {},
   "outputs": [],
   "source": []
  },
  {
   "cell_type": "code",
   "execution_count": null,
   "metadata": {},
   "outputs": [],
   "source": []
  }
 ],
 "metadata": {
  "kernelspec": {
   "display_name": "Python 3",
   "language": "python",
   "name": "python3"
  },
  "language_info": {
   "codemirror_mode": {
    "name": "ipython",
    "version": 3
   },
   "file_extension": ".py",
   "mimetype": "text/x-python",
   "name": "python",
   "nbconvert_exporter": "python",
   "pygments_lexer": "ipython3",
   "version": "3.8.5"
  }
 },
 "nbformat": 4,
 "nbformat_minor": 4
}
